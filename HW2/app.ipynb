{
  "nbformat": 4,
  "nbformat_minor": 0,
  "metadata": {
    "colab": {
      "name": "DSAI-HW2-2022.ipynb",
      "provenance": [],
      "collapsed_sections": []
    },
    "kernelspec": {
      "name": "python3",
      "display_name": "Python 3"
    },
    "language_info": {
      "name": "python"
    }
  },
  "cells": [
    {
      "cell_type": "markdown",
      "source": [
        "## Import Libraries"
      ],
      "metadata": {
        "id": "PBR53yI5EKKR"
      }
    },
    {
      "cell_type": "code",
      "source": [
        "import os\n",
        "import csv\n",
        "import numpy as np\n",
        "import pandas as pd\n",
        "import torch\n",
        "import torch.nn as nn\n",
        "from torch.autograd import Variable\n",
        "from sklearn.preprocessing import MinMaxScaler\n",
        "from matplotlib import pyplot as plt\n",
        "from google.colab import drive"
      ],
      "metadata": {
        "id": "PoL8Oj4WEQjH"
      },
      "execution_count": 1,
      "outputs": []
    },
    {
      "cell_type": "markdown",
      "source": [
        "## Mount Drive"
      ],
      "metadata": {
        "id": "R1j9CpK4E98x"
      }
    },
    {
      "cell_type": "code",
      "source": [
        "drive.mount('/content/drive')"
      ],
      "metadata": {
        "colab": {
          "base_uri": "https://localhost:8080/"
        },
        "id": "5EYpUXeNFE95",
        "outputId": "80ca4c21-05c4-440a-8f73-5d1fffb94842"
      },
      "execution_count": 2,
      "outputs": [
        {
          "output_type": "stream",
          "name": "stdout",
          "text": [
            "Mounted at /content/drive\n"
          ]
        }
      ]
    },
    {
      "cell_type": "markdown",
      "source": [
        "## Import Dataset"
      ],
      "metadata": {
        "id": "icMk7xJHETsH"
      }
    },
    {
      "cell_type": "code",
      "source": [
        "PATH = 'drive/My Drive/Colab Notebooks/DSAI-HW2'\n",
        "print(os.listdir(PATH))"
      ],
      "metadata": {
        "colab": {
          "base_uri": "https://localhost:8080/"
        },
        "id": "xXYY8tDfEZ5J",
        "outputId": "ae3854df-dfe5-4170-e172-af6ebd6982c7"
      },
      "execution_count": 3,
      "outputs": [
        {
          "output_type": "stream",
          "name": "stdout",
          "text": [
            "['training.csv', 'testing.csv', 'DSAI-HW2-2022.ipynb']\n"
          ]
        }
      ]
    },
    {
      "cell_type": "code",
      "source": [
        "training_set = pd.read_csv(os.path.join(PATH, 'training.csv'), header=None)\n",
        "testing_set = pd.read_csv(os.path.join(PATH, 'testing.csv'), header=None)\n",
        "training_set.head()\n",
        "# open high low close"
      ],
      "metadata": {
        "id": "VfmyEJ2xGu6f",
        "colab": {
          "base_uri": "https://localhost:8080/",
          "height": 206
        },
        "outputId": "a32260bd-0ee2-4a9f-fd38-217d3647b771"
      },
      "execution_count": 4,
      "outputs": [
        {
          "output_type": "execute_result",
          "data": {
            "text/plain": [
              "        0       1       2       3\n",
              "0  186.73  188.71  186.00  186.30\n",
              "1  185.57  186.33  184.94  185.54\n",
              "2  184.81  185.03  183.10  184.66\n",
              "3  184.39  184.48  182.31  182.54\n",
              "4  182.20  182.27  180.27  181.59"
            ],
            "text/html": [
              "\n",
              "  <div id=\"df-d70f326c-dbb7-4465-9a52-75fefebc2516\">\n",
              "    <div class=\"colab-df-container\">\n",
              "      <div>\n",
              "<style scoped>\n",
              "    .dataframe tbody tr th:only-of-type {\n",
              "        vertical-align: middle;\n",
              "    }\n",
              "\n",
              "    .dataframe tbody tr th {\n",
              "        vertical-align: top;\n",
              "    }\n",
              "\n",
              "    .dataframe thead th {\n",
              "        text-align: right;\n",
              "    }\n",
              "</style>\n",
              "<table border=\"1\" class=\"dataframe\">\n",
              "  <thead>\n",
              "    <tr style=\"text-align: right;\">\n",
              "      <th></th>\n",
              "      <th>0</th>\n",
              "      <th>1</th>\n",
              "      <th>2</th>\n",
              "      <th>3</th>\n",
              "    </tr>\n",
              "  </thead>\n",
              "  <tbody>\n",
              "    <tr>\n",
              "      <th>0</th>\n",
              "      <td>186.73</td>\n",
              "      <td>188.71</td>\n",
              "      <td>186.00</td>\n",
              "      <td>186.30</td>\n",
              "    </tr>\n",
              "    <tr>\n",
              "      <th>1</th>\n",
              "      <td>185.57</td>\n",
              "      <td>186.33</td>\n",
              "      <td>184.94</td>\n",
              "      <td>185.54</td>\n",
              "    </tr>\n",
              "    <tr>\n",
              "      <th>2</th>\n",
              "      <td>184.81</td>\n",
              "      <td>185.03</td>\n",
              "      <td>183.10</td>\n",
              "      <td>184.66</td>\n",
              "    </tr>\n",
              "    <tr>\n",
              "      <th>3</th>\n",
              "      <td>184.39</td>\n",
              "      <td>184.48</td>\n",
              "      <td>182.31</td>\n",
              "      <td>182.54</td>\n",
              "    </tr>\n",
              "    <tr>\n",
              "      <th>4</th>\n",
              "      <td>182.20</td>\n",
              "      <td>182.27</td>\n",
              "      <td>180.27</td>\n",
              "      <td>181.59</td>\n",
              "    </tr>\n",
              "  </tbody>\n",
              "</table>\n",
              "</div>\n",
              "      <button class=\"colab-df-convert\" onclick=\"convertToInteractive('df-d70f326c-dbb7-4465-9a52-75fefebc2516')\"\n",
              "              title=\"Convert this dataframe to an interactive table.\"\n",
              "              style=\"display:none;\">\n",
              "        \n",
              "  <svg xmlns=\"http://www.w3.org/2000/svg\" height=\"24px\"viewBox=\"0 0 24 24\"\n",
              "       width=\"24px\">\n",
              "    <path d=\"M0 0h24v24H0V0z\" fill=\"none\"/>\n",
              "    <path d=\"M18.56 5.44l.94 2.06.94-2.06 2.06-.94-2.06-.94-.94-2.06-.94 2.06-2.06.94zm-11 1L8.5 8.5l.94-2.06 2.06-.94-2.06-.94L8.5 2.5l-.94 2.06-2.06.94zm10 10l.94 2.06.94-2.06 2.06-.94-2.06-.94-.94-2.06-.94 2.06-2.06.94z\"/><path d=\"M17.41 7.96l-1.37-1.37c-.4-.4-.92-.59-1.43-.59-.52 0-1.04.2-1.43.59L10.3 9.45l-7.72 7.72c-.78.78-.78 2.05 0 2.83L4 21.41c.39.39.9.59 1.41.59.51 0 1.02-.2 1.41-.59l7.78-7.78 2.81-2.81c.8-.78.8-2.07 0-2.86zM5.41 20L4 18.59l7.72-7.72 1.47 1.35L5.41 20z\"/>\n",
              "  </svg>\n",
              "      </button>\n",
              "      \n",
              "  <style>\n",
              "    .colab-df-container {\n",
              "      display:flex;\n",
              "      flex-wrap:wrap;\n",
              "      gap: 12px;\n",
              "    }\n",
              "\n",
              "    .colab-df-convert {\n",
              "      background-color: #E8F0FE;\n",
              "      border: none;\n",
              "      border-radius: 50%;\n",
              "      cursor: pointer;\n",
              "      display: none;\n",
              "      fill: #1967D2;\n",
              "      height: 32px;\n",
              "      padding: 0 0 0 0;\n",
              "      width: 32px;\n",
              "    }\n",
              "\n",
              "    .colab-df-convert:hover {\n",
              "      background-color: #E2EBFA;\n",
              "      box-shadow: 0px 1px 2px rgba(60, 64, 67, 0.3), 0px 1px 3px 1px rgba(60, 64, 67, 0.15);\n",
              "      fill: #174EA6;\n",
              "    }\n",
              "\n",
              "    [theme=dark] .colab-df-convert {\n",
              "      background-color: #3B4455;\n",
              "      fill: #D2E3FC;\n",
              "    }\n",
              "\n",
              "    [theme=dark] .colab-df-convert:hover {\n",
              "      background-color: #434B5C;\n",
              "      box-shadow: 0px 1px 3px 1px rgba(0, 0, 0, 0.15);\n",
              "      filter: drop-shadow(0px 1px 2px rgba(0, 0, 0, 0.3));\n",
              "      fill: #FFFFFF;\n",
              "    }\n",
              "  </style>\n",
              "\n",
              "      <script>\n",
              "        const buttonEl =\n",
              "          document.querySelector('#df-d70f326c-dbb7-4465-9a52-75fefebc2516 button.colab-df-convert');\n",
              "        buttonEl.style.display =\n",
              "          google.colab.kernel.accessAllowed ? 'block' : 'none';\n",
              "\n",
              "        async function convertToInteractive(key) {\n",
              "          const element = document.querySelector('#df-d70f326c-dbb7-4465-9a52-75fefebc2516');\n",
              "          const dataTable =\n",
              "            await google.colab.kernel.invokeFunction('convertToInteractive',\n",
              "                                                     [key], {});\n",
              "          if (!dataTable) return;\n",
              "\n",
              "          const docLinkHtml = 'Like what you see? Visit the ' +\n",
              "            '<a target=\"_blank\" href=https://colab.research.google.com/notebooks/data_table.ipynb>data table notebook</a>'\n",
              "            + ' to learn more about interactive tables.';\n",
              "          element.innerHTML = '';\n",
              "          dataTable['output_type'] = 'display_data';\n",
              "          await google.colab.output.renderOutput(dataTable, element);\n",
              "          const docLink = document.createElement('div');\n",
              "          docLink.innerHTML = docLinkHtml;\n",
              "          element.appendChild(docLink);\n",
              "        }\n",
              "      </script>\n",
              "    </div>\n",
              "  </div>\n",
              "  "
            ]
          },
          "metadata": {},
          "execution_count": 4
        }
      ]
    },
    {
      "cell_type": "code",
      "source": [
        "open_set = training_set.iloc[:,0:1].values\n",
        "# high_set = training_set.iloc[:,1:2].values\n",
        "# low_set = training_set.iloc[:,2:3].values\n",
        "# close_set = training_set.iloc[:,3:4].values\n",
        "# delta_set = close_set - open_set"
      ],
      "metadata": {
        "id": "0-UNEBluwQig"
      },
      "execution_count": 5,
      "outputs": []
    },
    {
      "cell_type": "code",
      "source": [
        "plt.rcParams['figure.figsize'] = [17, 3]\n",
        "plt.rcParams['figure.dpi'] = 100\n",
        "# plt.plot(open_set)\n",
        "# plt.plot(high_set)\n",
        "# plt.plot(low_set)\n",
        "# plt.plot(close_set)\n",
        "# plt.plot(delta_set)"
      ],
      "metadata": {
        "id": "ku6ffw5lxY-l"
      },
      "execution_count": 6,
      "outputs": []
    },
    {
      "cell_type": "markdown",
      "source": [
        "## Dataloading"
      ],
      "metadata": {
        "id": "hNJo7czj8c0G"
      }
    },
    {
      "cell_type": "code",
      "source": [
        "def sliding_windows(data, seq_length):\n",
        "    x = []\n",
        "    y = []\n",
        "\n",
        "    for i in range(len(data)-seq_length-1):\n",
        "        _x = data[i:(i+seq_length)]\n",
        "        _y = data[i+seq_length]\n",
        "        x.append(_x)\n",
        "        y.append(_y)\n",
        "\n",
        "    return np.array(x),np.array(y)\n",
        "\n",
        "def sliding_windows2(data, seq_length):\n",
        "    x = []\n",
        "    y = []\n",
        "\n",
        "    for i in range(len(data)-seq_length):\n",
        "        _x = data[i:(i+seq_length)]\n",
        "        x.append(_x)\n",
        "\n",
        "    return np.array(x)"
      ],
      "metadata": {
        "id": "kMcqZkoA8fkw"
      },
      "execution_count": 7,
      "outputs": []
    },
    {
      "cell_type": "code",
      "source": [
        "sc = MinMaxScaler()\n",
        "open_data = sc.fit_transform(open_set)\n",
        "\n",
        "seq_length = 5\n",
        "pred_length = 1\n",
        "x, y = sliding_windows(open_data, seq_length)\n",
        "\n",
        "trainX = Variable(torch.Tensor(np.array(x)))\n",
        "trainY = Variable(torch.Tensor(np.array(y)))"
      ],
      "metadata": {
        "id": "6HI4t31E8pu3"
      },
      "execution_count": 8,
      "outputs": []
    },
    {
      "cell_type": "markdown",
      "source": [
        "## Model"
      ],
      "metadata": {
        "id": "q2xzqYMw98MX"
      }
    },
    {
      "cell_type": "code",
      "source": [
        "class LSTM(nn.Module):\n",
        "\n",
        "    def __init__(self, num_classes, input_size, hidden_size, num_layers):\n",
        "        super(LSTM, self).__init__()\n",
        "\n",
        "        self.num_classes = num_classes\n",
        "        self.num_layers = num_layers\n",
        "        self.input_size = input_size\n",
        "        self.hidden_size = hidden_size\n",
        "        self.seq_length = seq_length\n",
        "\n",
        "        self.lstm = nn.LSTM(input_size=input_size, hidden_size=hidden_size,\n",
        "                            num_layers=num_layers, batch_first=True)\n",
        "\n",
        "        self.fc = nn.Linear(hidden_size, num_classes)\n",
        "\n",
        "    def forward(self, x):\n",
        "        h_0 = Variable(torch.zeros(\n",
        "            self.num_layers, x.size(0), self.hidden_size))\n",
        "\n",
        "        c_0 = Variable(torch.zeros(\n",
        "            self.num_layers, x.size(0), self.hidden_size))\n",
        "\n",
        "        # Propagate input through LSTM\n",
        "        ula, (h_out, _) = self.lstm(x, (h_0, c_0))\n",
        "\n",
        "        h_out = h_out.view(-1, self.hidden_size)\n",
        "\n",
        "        out = self.fc(h_out)\n",
        "\n",
        "        return out"
      ],
      "metadata": {
        "id": "ePMQ3EeO99yQ"
      },
      "execution_count": 9,
      "outputs": []
    },
    {
      "cell_type": "markdown",
      "source": [
        "## Training"
      ],
      "metadata": {
        "id": "R0Hjd89G_Qpt"
      }
    },
    {
      "cell_type": "code",
      "source": [
        "num_epochs = 500\n",
        "learning_rate = 0.01\n",
        "\n",
        "input_size = 1\n",
        "hidden_size = 2\n",
        "num_layers = 1\n",
        "\n",
        "num_classes = pred_length\n",
        "\n",
        "lstm = LSTM(num_classes, input_size, hidden_size, num_layers)\n",
        "\n",
        "criterion = torch.nn.MSELoss()    # mean-squared error for regression\n",
        "optimizer = torch.optim.Adam(lstm.parameters(), lr=learning_rate)\n",
        "\n",
        "train_losses = []\n",
        "test_losses = []\n",
        "\n",
        "# Train the model\n",
        "for epoch in range(num_epochs):\n",
        "    outputs = lstm(trainX)\n",
        "    optimizer.zero_grad()\n",
        "\n",
        "    # with torch.no_grad():\n",
        "    #   y_test_pred = lstm(testX)\n",
        "    #   test_loss = criterion(y_test_pred, testY)\n",
        "    # test_losses.append(test_loss.item())\n",
        "\n",
        "    # obtain the loss function\n",
        "    loss = criterion(outputs, trainY)\n",
        "    \n",
        "    loss.backward()\n",
        "\n",
        "    train_losses.append(loss.item())\n",
        "    \n",
        "    optimizer.step()\n",
        "    if epoch % 10 == 0:\n",
        "      # print(f\"[Epoch {epoch}] train loss: {round(loss.item(), 4)}, test loss: {round(test_loss.item(), 4)}\")\n",
        "      print(f\"[Epoch {epoch}] train loss: {round(loss.item(), 4)}\")\n",
        "\n",
        "plt.plot(\n",
        "  train_losses,\n",
        "  label='Train'\n",
        ")\n",
        "# plt.plot(\n",
        "#   test_losses,\n",
        "#   label='Test'\n",
        "# )\n",
        "plt.legend()"
      ],
      "metadata": {
        "colab": {
          "base_uri": "https://localhost:8080/",
          "height": 1000
        },
        "id": "7swnTvKL_SeO",
        "outputId": "5959edbc-6c2a-4ece-e0fc-86222b512269"
      },
      "execution_count": 10,
      "outputs": [
        {
          "output_type": "stream",
          "name": "stdout",
          "text": [
            "[Epoch 0] train loss: 1.8877\n",
            "[Epoch 10] train loss: 1.1017\n",
            "[Epoch 20] train loss: 0.5977\n",
            "[Epoch 30] train loss: 0.2837\n",
            "[Epoch 40] train loss: 0.1075\n",
            "[Epoch 50] train loss: 0.043\n",
            "[Epoch 60] train loss: 0.0368\n",
            "[Epoch 70] train loss: 0.0381\n",
            "[Epoch 80] train loss: 0.0348\n",
            "[Epoch 90] train loss: 0.0321\n",
            "[Epoch 100] train loss: 0.0302\n",
            "[Epoch 110] train loss: 0.028\n",
            "[Epoch 120] train loss: 0.0253\n",
            "[Epoch 130] train loss: 0.0224\n",
            "[Epoch 140] train loss: 0.0194\n",
            "[Epoch 150] train loss: 0.0163\n",
            "[Epoch 160] train loss: 0.0134\n",
            "[Epoch 170] train loss: 0.0106\n",
            "[Epoch 180] train loss: 0.0082\n",
            "[Epoch 190] train loss: 0.0061\n",
            "[Epoch 200] train loss: 0.0044\n",
            "[Epoch 210] train loss: 0.003\n",
            "[Epoch 220] train loss: 0.002\n",
            "[Epoch 230] train loss: 0.0014\n",
            "[Epoch 240] train loss: 0.001\n",
            "[Epoch 250] train loss: 0.0008\n",
            "[Epoch 260] train loss: 0.0007\n",
            "[Epoch 270] train loss: 0.0007\n",
            "[Epoch 280] train loss: 0.0007\n",
            "[Epoch 290] train loss: 0.0007\n",
            "[Epoch 300] train loss: 0.0007\n",
            "[Epoch 310] train loss: 0.0006\n",
            "[Epoch 320] train loss: 0.0006\n",
            "[Epoch 330] train loss: 0.0006\n",
            "[Epoch 340] train loss: 0.0006\n",
            "[Epoch 350] train loss: 0.0006\n",
            "[Epoch 360] train loss: 0.0006\n",
            "[Epoch 370] train loss: 0.0006\n",
            "[Epoch 380] train loss: 0.0006\n",
            "[Epoch 390] train loss: 0.0006\n",
            "[Epoch 400] train loss: 0.0006\n",
            "[Epoch 410] train loss: 0.0006\n",
            "[Epoch 420] train loss: 0.0006\n",
            "[Epoch 430] train loss: 0.0006\n",
            "[Epoch 440] train loss: 0.0006\n",
            "[Epoch 450] train loss: 0.0006\n",
            "[Epoch 460] train loss: 0.0006\n",
            "[Epoch 470] train loss: 0.0006\n",
            "[Epoch 480] train loss: 0.0006\n",
            "[Epoch 490] train loss: 0.0006\n"
          ]
        },
        {
          "output_type": "execute_result",
          "data": {
            "text/plain": [
              "<matplotlib.legend.Legend at 0x7f002bb16c50>"
            ]
          },
          "metadata": {},
          "execution_count": 10
        },
        {
          "output_type": "display_data",
          "data": {
            "text/plain": [
              "<Figure size 1700x300 with 1 Axes>"
            ],
            "image/png": "[encoded data removed]"
          },
          "metadata": {
            "needs_background": "light"
          }
        }
      ]
    },
    {
      "cell_type": "markdown",
      "source": [
        "## Plotting"
      ],
      "metadata": {
        "id": "F2C37dzxACJ-"
      }
    },
    {
      "cell_type": "code",
      "source": [
        "lstm.eval()\n",
        "train_predict = lstm(trainX)\n",
        "\n",
        "data_predict = train_predict.data.numpy()\n",
        "data_real = trainY.data.numpy()\n",
        "\n",
        "data_predict = sc.inverse_transform(data_predict)\n",
        "data_real = sc.inverse_transform(data_real)\n",
        "actual_delta = data_real - data_predict\n",
        "\n",
        "plt.plot(data_real)\n",
        "plt.plot(data_predict)"
      ],
      "metadata": {
        "colab": {
          "base_uri": "https://localhost:8080/",
          "height": 257
        },
        "id": "iDIvP_S8Aat2",
        "outputId": "eaedf824-6b9c-4a45-b918-c96083a11a2c"
      },
      "execution_count": 11,
      "outputs": [
        {
          "output_type": "execute_result",
          "data": {
            "text/plain": [
              "[<matplotlib.lines.Line2D at 0x7f002b1dfd10>]"
            ]
          },
          "metadata": {},
          "execution_count": 11
        },
        {
          "output_type": "display_data",
          "data": {
            "text/plain": [
              "<Figure size 1700x300 with 1 Axes>"
            ],
            "image/png": "[encoded data removed]"
          },
          "metadata": {
            "needs_background": "light"
          }
        }
      ]
    },
    {
      "cell_type": "markdown",
      "source": [
        "## Testing"
      ],
      "metadata": {
        "id": "fOgigd9ZF6I0"
      }
    },
    {
      "cell_type": "code",
      "source": [
        "# concatenate traing_set last 5 elements with testing_set\n",
        "open_test_set_20 = testing_set.iloc[:,0:1].values\n",
        "open_test_set = np.concatenate((open_set[-5:], open_test_set_20), axis=0)\n",
        "open_test_data = sc.fit_transform(open_test_set)\n",
        "\n",
        "x = sliding_windows2(open_test_data, seq_length)\n",
        "\n",
        "testX = Variable(torch.Tensor(np.array(x)))\n",
        "\n",
        "lstm.eval()\n",
        "pred = lstm(testX)\n",
        "pred = pred.data.numpy()\n",
        "pred = sc.inverse_transform(pred)\n",
        "trend = []\n",
        "for i in range(0, 19):\n",
        "  if(pred[i] - open_test_set_20[i] < 0):\n",
        "    trend.append('跌')\n",
        "  else:\n",
        "    trend.append('漲')\n",
        "print('trend', trend)"
      ],
      "metadata": {
        "colab": {
          "base_uri": "https://localhost:8080/"
        },
        "id": "7XDMDPxEF79O",
        "outputId": "ba44a551-91c9-44c4-dcab-bdbefb76a2c4"
      },
      "execution_count": 12,
      "outputs": [
        {
          "output_type": "stream",
          "name": "stdout",
          "text": [
            "trend ['跌', '跌', '跌', '漲', '漲', '跌', '跌', '跌', '跌', '漲', '漲', '漲', '漲', '漲', '漲', '漲', '漲', '跌', '跌']\n"
          ]
        }
      ]
    },
    {
      "cell_type": "code",
      "source": [
        "curr = 0\n",
        "actions = []\n",
        "\n",
        "for i in range(0, 19):\n",
        "  if(trend[i] == '跌'):\n",
        "    if(curr == 0):\n",
        "      actions.append(-1)\n",
        "      curr = -1\n",
        "    elif(curr == -1):\n",
        "      actions.append(0)\n",
        "      curr = -1\n",
        "    else:\n",
        "      actions.append(-1)\n",
        "      curr = 0\n",
        "  else:\n",
        "    if(curr == 0):\n",
        "      actions.append(1)\n",
        "      curr = 1\n",
        "    elif(curr == -1):\n",
        "      actions.append(1)\n",
        "      curr = 0\n",
        "    else:\n",
        "      actions.append(0)\n",
        "      curr = 1\n",
        "\n",
        "print('actions', actions)"
      ],
      "metadata": {
        "colab": {
          "base_uri": "https://localhost:8080/"
        },
        "id": "RSKPBHteYF_3",
        "outputId": "61caa1fe-898e-4ddd-c051-70b04ff4c07e"
      },
      "execution_count": 13,
      "outputs": [
        {
          "output_type": "stream",
          "name": "stdout",
          "text": [
            "actions [-1, 0, 0, 1, 1, -1, -1, 0, 0, 1, 1, 0, 0, 0, 0, 0, 0, -1, -1]\n"
          ]
        }
      ]
    },
    {
      "cell_type": "markdown",
      "source": [
        "## Actions to csv"
      ],
      "metadata": {
        "id": "ruAJfwEnbdmV"
      }
    },
    {
      "cell_type": "code",
      "source": [
        "df = pd.DataFrame(actions)\n",
        "df.to_csv('output.csv', index = False, header=None)"
      ],
      "metadata": {
        "id": "1CjHpHghauw1"
      },
      "execution_count": 14,
      "outputs": []
    }
  ]
}