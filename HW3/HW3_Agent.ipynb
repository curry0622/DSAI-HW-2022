{
  "nbformat": 4,
  "nbformat_minor": 0,
  "metadata": {
    "colab": {
      "name": "HW3_Agent.ipynb",
      "provenance": [],
      "collapsed_sections": []
    },
    "kernelspec": {
      "name": "python3",
      "display_name": "Python 3"
    },
    "language_info": {
      "name": "python"
    }
  },
  "cells": [
    {
      "cell_type": "markdown",
      "source": [
        "## Import Libraries"
      ],
      "metadata": {
        "id": "DaE9yUXNQr2z"
      }
    },
    {
      "cell_type": "code",
      "execution_count": 1,
      "metadata": {
        "id": "bF1345SpPrff"
      },
      "outputs": [],
      "source": [
        "import os\n",
        "import csv\n",
        "import random\n",
        "import datetime as dt\n",
        "import numpy as np\n",
        "import pandas as pd\n",
        "import torch\n",
        "import torch.nn as nn\n",
        "from torch.autograd import Variable\n",
        "from sklearn.preprocessing import MinMaxScaler\n",
        "from matplotlib import pyplot as plt\n",
        "from google.colab import drive"
      ]
    },
    {
      "cell_type": "markdown",
      "source": [
        "## Mount Drive"
      ],
      "metadata": {
        "id": "ZlMLRU0pQ2wc"
      }
    },
    {
      "cell_type": "code",
      "source": [
        "drive.mount('/content/drive')"
      ],
      "metadata": {
        "colab": {
          "base_uri": "https://localhost:8080/"
        },
        "id": "q4OkxFE-Q4sB",
        "outputId": "d9dc4076-34a6-4ff4-ec5a-96e3fdfdb4a4"
      },
      "execution_count": 2,
      "outputs": [
        {
          "output_type": "stream",
          "name": "stdout",
          "text": [
            "Mounted at /content/drive\n"
          ]
        }
      ]
    },
    {
      "cell_type": "markdown",
      "source": [
        "## Parameters"
      ],
      "metadata": {
        "id": "r4gnCJSuRg2x"
      }
    },
    {
      "cell_type": "code",
      "source": [
        "PATH = 'drive/My Drive/Colab Notebooks/DSAI-2022/HW3'"
      ],
      "metadata": {
        "id": "UILl_B9wRiPB"
      },
      "execution_count": 3,
      "outputs": []
    },
    {
      "cell_type": "markdown",
      "source": [
        "## Read Input Files"
      ],
      "metadata": {
        "id": "csyfRblVTJDb"
      }
    },
    {
      "cell_type": "code",
      "source": [
        "def read_input_files():\n",
        "  gen_df = pd.read_csv(os.path.join(PATH, 'generation.csv'))\n",
        "  con_df = pd.read_csv(os.path.join(PATH, 'consumption.csv'))\n",
        "  bid_df = pd.read_csv(os.path.join(PATH, 'bidresult.csv'))\n",
        "  return gen_df, con_df, bid_df\n",
        "\n",
        "# gen_df, con_df, bid_df = read_input_files()"
      ],
      "metadata": {
        "id": "S5zS1-nITNNY"
      },
      "execution_count": 4,
      "outputs": []
    },
    {
      "cell_type": "markdown",
      "source": [
        "## Combine gen_df & con_df"
      ],
      "metadata": {
        "id": "bJJG7Wc2VZxA"
      }
    },
    {
      "cell_type": "code",
      "source": [
        "def combine_input(gen_df, con_df):\n",
        "  df = gen_df\n",
        "  df['consumption'] = con_df['consumption']\n",
        "  return df\n",
        "\n",
        "# df = combine_input(gen_df, con_df)"
      ],
      "metadata": {
        "id": "63LP9J6kVdJY"
      },
      "execution_count": 5,
      "outputs": []
    },
    {
      "cell_type": "markdown",
      "source": [
        "## Featuring"
      ],
      "metadata": {
        "id": "4PzQATUwXkf-"
      }
    },
    {
      "cell_type": "code",
      "source": [
        "def featuring(df):\n",
        "  df['time'] = pd.to_datetime(df['time'])\n",
        "  df['year'] = pd.DatetimeIndex(df['time']).year\n",
        "  df['month'] = pd.DatetimeIndex(df['time']).month\n",
        "  df['day'] = pd.DatetimeIndex(df['time']).day\n",
        "  df['hour'] = pd.DatetimeIndex(df['time']).hour\n",
        "  df['weekday'] = pd.DatetimeIndex(df['time']).weekday\n",
        "  return df\n",
        "\n",
        "# df = featuring(df)\n",
        "# df"
      ],
      "metadata": {
        "id": "9qTMtTC9XfhX"
      },
      "execution_count": 6,
      "outputs": []
    },
    {
      "cell_type": "markdown",
      "source": [
        "## Create MinMaxScaler"
      ],
      "metadata": {
        "id": "mTQaUUq3RPKh"
      }
    },
    {
      "cell_type": "code",
      "source": [
        "def create_sc():\n",
        "  sc = MinMaxScaler()\n",
        "  df = pd.DataFrame()\n",
        "\n",
        "  for i in range(0, 50):\n",
        "    tmp = pd.read_csv(os.path.join(PATH + '/data', 'target'+ str(i) +'.csv'))\n",
        "    tmp = featuring(tmp)\n",
        "    tmp = tmp.drop(['time'], axis=1)\n",
        "    df = df.append(tmp, ignore_index=True)\n",
        "\n",
        "  df = sc.fit_transform(df)\n",
        "\n",
        "  return sc"
      ],
      "metadata": {
        "id": "OP6xQZXjRR9I"
      },
      "execution_count": 7,
      "outputs": []
    },
    {
      "cell_type": "markdown",
      "source": [
        "## Model Definition"
      ],
      "metadata": {
        "id": "zI41aRs2byP8"
      }
    },
    {
      "cell_type": "code",
      "source": [
        "class LSTM(nn.Module):\n",
        "\n",
        "  def __init__(self, num_classes, input_size, hidden_size, num_layers):\n",
        "    super(LSTM, self).__init__()\n",
        "\n",
        "    self.num_classes = num_classes\n",
        "    self.num_layers = num_layers\n",
        "    self.input_size = input_size\n",
        "    self.hidden_size = hidden_size\n",
        "\n",
        "    self.lstm = nn.LSTM(input_size=input_size, hidden_size=hidden_size,\n",
        "                        num_layers=num_layers, batch_first=True)\n",
        "\n",
        "    self.fc = nn.Linear(hidden_size, num_classes)\n",
        "\n",
        "  def forward(self, x):\n",
        "    h_0 = Variable(torch.zeros(\n",
        "        self.num_layers, x.size(0), self.hidden_size))\n",
        "\n",
        "    c_0 = Variable(torch.zeros(\n",
        "        self.num_layers, x.size(0), self.hidden_size))\n",
        "\n",
        "    # Propagate input through LSTM\n",
        "    ula, (h_out, _) = self.lstm(x, (h_0, c_0))\n",
        "\n",
        "    h_out = h_out.view(-1, self.hidden_size)\n",
        "\n",
        "    out = self.fc(h_out)\n",
        "\n",
        "    return out"
      ],
      "metadata": {
        "id": "7sBjdd54bzaM"
      },
      "execution_count": 8,
      "outputs": []
    },
    {
      "cell_type": "markdown",
      "source": [
        "## Load Models"
      ],
      "metadata": {
        "id": "VCzMcsCCawld"
      }
    },
    {
      "cell_type": "code",
      "source": [
        "def load_models():\n",
        "  gen_model = torch.load(PATH + '/model/gen')\n",
        "  con_model = torch.load(PATH + '/model/con')\n",
        "  return gen_model, con_model"
      ],
      "metadata": {
        "id": "EBh81DY6ax8b"
      },
      "execution_count": 9,
      "outputs": []
    },
    {
      "cell_type": "markdown",
      "source": [
        "## Make Model Input"
      ],
      "metadata": {
        "id": "CSoPqlAecJsc"
      }
    },
    {
      "cell_type": "code",
      "source": [
        "def make_model_input(gen_df, con_df, sc):\n",
        "  tmp = combine_input(gen_df, con_df)\n",
        "  tmp = featuring(tmp)\n",
        "  tmp = tmp.drop(['time'], axis=1)\n",
        "  tmp = sc.fit_transform(tmp)\n",
        "  tmp  = Variable(torch.Tensor(np.array([tmp])))\n",
        "  return tmp"
      ],
      "metadata": {
        "id": "LqxejG9WcL3_"
      },
      "execution_count": 10,
      "outputs": []
    },
    {
      "cell_type": "markdown",
      "source": [
        "## MinMaxScaler Inverse"
      ],
      "metadata": {
        "id": "XdEFuiQheRt_"
      }
    },
    {
      "cell_type": "code",
      "source": [
        "def inverse_data(data, sc, type):\n",
        "  tmp = []\n",
        "  inversed = []\n",
        "\n",
        "  # reshape for sc input\n",
        "  for day_data in data:\n",
        "    for hour_data in day_data:\n",
        "      if type == 'gen':\n",
        "        expand_hour_data = np.array([hour_data, 0, 0, 0, 0, 0, 0])\n",
        "      else:\n",
        "        expand_hour_data = np.array([0, hour_data, 0, 0, 0, 0, 0])\n",
        "      tmp.append(expand_hour_data)\n",
        "  tmp = np.array(tmp)\n",
        "\n",
        "  # sc inverse\n",
        "  tmp = sc.inverse_transform(tmp)\n",
        "\n",
        "  # reshape for output\n",
        "  for hour_data in tmp:\n",
        "    if type == 'gen':\n",
        "      inversed.append(hour_data[0])\n",
        "    else:\n",
        "      inversed.append(hour_data[1])\n",
        "  inversed = np.array(inversed)\n",
        "  inversed = inversed.reshape(data.shape[0], data.shape[1])\n",
        "  \n",
        "  return inversed"
      ],
      "metadata": {
        "id": "9oQKfudleWUa"
      },
      "execution_count": 11,
      "outputs": []
    },
    {
      "cell_type": "markdown",
      "source": [
        "## Predict"
      ],
      "metadata": {
        "id": "tW3fGvJvdnJz"
      }
    },
    {
      "cell_type": "code",
      "source": [
        "def predict(model, model_input, sc, type):\n",
        "  model.eval()\n",
        "  pred = model(model_input)\n",
        "  pred = pred.data.numpy()\n",
        "  pred = inverse_data(pred, sc, type)\n",
        "  return pred[0]"
      ],
      "metadata": {
        "id": "eND46R9XdoSE"
      },
      "execution_count": 12,
      "outputs": []
    },
    {
      "cell_type": "markdown",
      "source": [
        "## Trade"
      ],
      "metadata": {
        "id": "EUl1h0uhQ71p"
      }
    },
    {
      "cell_type": "code",
      "source": [
        "def trade(gen_pred, con_pred, base_time):\n",
        "  col = ['time', 'action', 'target_price', 'target_volume']\n",
        "  trade_df = pd.DataFrame(columns=col)\n",
        "  for i in range(24):\n",
        "    time = base_time + dt.timedelta(hours=i)\n",
        "    delta = round(gen_pred[i] - con_pred[i], 2)\n",
        "    action = ''\n",
        "    if delta < 0:\n",
        "      # generation < consumption -> buy\n",
        "      action = 'buy'\n",
        "    elif delta > 0:\n",
        "      action = 'sell'\n",
        "    else:\n",
        "      action = ''\n",
        "\n",
        "    if action == 'buy':\n",
        "      tmp = [time, action, 3, abs(delta)]\n",
        "      tmp = pd.DataFrame([tmp], columns=col)\n",
        "      trade_df = trade_df.append(tmp)\n",
        "    if action == 'sell':\n",
        "      tmp = [time, action, 1, abs(delta)]\n",
        "      tmp = pd.DataFrame([tmp], columns=col)\n",
        "      trade_df = trade_df.append(tmp)\n",
        "      \n",
        "  return trade_df.reset_index(drop=True)"
      ],
      "metadata": {
        "id": "cmTM2B6fQ9Yh"
      },
      "execution_count": 13,
      "outputs": []
    },
    {
      "cell_type": "markdown",
      "source": [
        "## Output Trading Info"
      ],
      "metadata": {
        "id": "pi6fa8YYlor_"
      }
    },
    {
      "cell_type": "code",
      "source": [
        "def output_trade(trade_df, output_path):\n",
        "  trade_df.to_csv(output_path, index=False)"
      ],
      "metadata": {
        "id": "asXxtCcPlqvi"
      },
      "execution_count": 14,
      "outputs": []
    },
    {
      "cell_type": "markdown",
      "source": [
        "## Main Function"
      ],
      "metadata": {
        "id": "bZh-hODkS4iw"
      }
    },
    {
      "cell_type": "code",
      "source": [
        "sc = create_sc()\n",
        "gen_df, con_df, bid_df = read_input_files()\n",
        "model_input = make_model_input(gen_df, con_df, sc)\n",
        "gen_model, con_model = load_models()\n",
        "gen_pred = predict(gen_model, model_input, sc, 'gen')\n",
        "con_pred = predict(con_model, model_input, sc, 'con')\n",
        "base_time = gen_df['time'][0] + dt.timedelta(days=1)\n",
        "trade_df = trade(gen_pred, con_pred, base_time)\n",
        "output_trade(trade_df, 'output.csv')"
      ],
      "metadata": {
        "id": "GL9hMGvlS6tv"
      },
      "execution_count": 15,
      "outputs": []
    },
    {
      "cell_type": "code",
      "source": [
        "gen_df['time'][167] + dt.timedelta(hours=1)"
      ],
      "metadata": {
        "colab": {
          "base_uri": "https://localhost:8080/"
        },
        "id": "RzLleuP_qye3",
        "outputId": "6ea23401-ee73-4045-ebbd-df8438584abc"
      },
      "execution_count": 23,
      "outputs": [
        {
          "output_type": "execute_result",
          "data": {
            "text/plain": [
              "Timestamp('2018-09-01 00:00:00')"
            ]
          },
          "metadata": {},
          "execution_count": 23
        }
      ]
    }
  ]
}